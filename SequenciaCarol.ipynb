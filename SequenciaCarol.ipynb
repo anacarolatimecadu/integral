{
 "cells": [
  {
   "cell_type": "code",
   "execution_count": null,
   "metadata": {
    "scrolled": false
   },
   "outputs": [],
   "source": [
    "incremento = int(input(\"Qual e o incremento: \"))\n",
    "passos = int(input(\"Quantos passos: \"))\n",
    "posicao = int(input(\"Qual a posicao inicial: \"))\n",
    "resultado = posicao + (incremento*passos)\n",
    "print(\"A posicao final e: \" + str(resultado))"
   ]
  },
  {
   "cell_type": "code",
   "execution_count": null,
   "metadata": {},
   "outputs": [],
   "source": []
  }
 ],
 "metadata": {
  "kernelspec": {
   "display_name": "Python 3",
   "language": "python",
   "name": "python3"
  },
  "language_info": {
   "codemirror_mode": {
    "name": "ipython",
    "version": 3
   },
   "file_extension": ".py",
   "mimetype": "text/x-python",
   "name": "python",
   "nbconvert_exporter": "python",
   "pygments_lexer": "ipython3",
   "version": "3.7.3"
  }
 },
 "nbformat": 4,
 "nbformat_minor": 2
}
