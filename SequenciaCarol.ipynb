{
 "cells": [
  {
   "cell_type": "code",
   "execution_count": 12,
   "metadata": {
    "scrolled": false
   },
   "outputs": [
    {
     "name": "stdout",
     "output_type": "stream",
     "text": [
      "Qual e o incremento: 2\n",
      "Quantos passos: 2\n",
      "Qual a posicao inicial: 1\n",
      "A posicao final e: 5\n"
     ]
    }
   ],
   "source": [
    "incremento = int(input(\"Qual e o incremento: \"))\n",
    "passos = int(input(\"Quantos passos: \"))\n",
    "posicao = int(input(\"Qual a posicao inicial: \"))\n",
    "resultado = posicao + (incremento*passos)\n",
    "print(\"A posicao final e: \" + str(resultado))"
   ]
  },
  {
   "cell_type": "code",
   "execution_count": null,
   "metadata": {},
   "outputs": [],
   "source": []
  }
 ],
 "metadata": {
  "kernelspec": {
   "display_name": "Python 3",
   "language": "python",
   "name": "python3"
  },
  "language_info": {
   "codemirror_mode": {
    "name": "ipython",
    "version": 3
   },
   "file_extension": ".py",
   "mimetype": "text/x-python",
   "name": "python",
   "nbconvert_exporter": "python",
   "pygments_lexer": "ipython3",
   "version": "3.6.7"
  }
 },
 "nbformat": 4,
 "nbformat_minor": 2
}
